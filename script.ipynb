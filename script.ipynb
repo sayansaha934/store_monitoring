{
 "cells": [
  {
   "cell_type": "code",
   "execution_count": 1,
   "metadata": {},
   "outputs": [],
   "source": [
    "import csv\n",
    "\n",
    "from db import SESSION\n",
    "from models import StoreStatus, BusinessHours, StoreTimezone"
   ]
  },
  {
   "cell_type": "code",
   "execution_count": null,
   "metadata": {},
   "outputs": [],
   "source": []
  },
  {
   "cell_type": "code",
   "execution_count": 2,
   "metadata": {},
   "outputs": [],
   "source": [
    "csv_file_path = 'csv_files/store status.csv'\n",
    "\n",
    "with open(csv_file_path, 'r') as csvfile:\n",
    "    csvreader = csv.reader(csvfile)\n",
    "    next(csvreader)  # Skip header row\n",
    "    for row in csvreader:\n",
    "        store_id, status, timestamp_utc = row\n",
    "        store_status = StoreStatus(store_id=store_id, status=status, timestamp_utc=timestamp_utc)\n",
    "        SESSION.add(store_status)\n",
    "\n",
    "# Commit the changes\n",
    "SESSION.commit()\n",
    "\n",
    "# Close the session\n",
    "SESSION.close()"
   ]
  },
  {
   "cell_type": "code",
   "execution_count": 3,
   "metadata": {},
   "outputs": [],
   "source": [
    "csv_file_path = \"csv_files/Menu hours.csv\"\n",
    "with open(csv_file_path, 'r') as csvfile:\n",
    "    csvreader = csv.reader(csvfile)\n",
    "    next(csvreader)  # Skip header row\n",
    "    for row in csvreader:\n",
    "        store_id, day, start_time_local, end_time_local = row\n",
    "        business_hours = BusinessHours(store_id=store_id, day=day, start_time_local=start_time_local, end_time_local=end_time_local)\n",
    "        SESSION.add(business_hours)\n",
    "\n",
    "# Commit the changes\n",
    "SESSION.commit()\n",
    "\n",
    "# Close the session\n",
    "SESSION.close()"
   ]
  },
  {
   "cell_type": "code",
   "execution_count": 8,
   "metadata": {},
   "outputs": [],
   "source": [
    "csv_file_path = \"csv_files/bq-results-20230125-202210-1674678181880.csv\"\n",
    "with open(csv_file_path, 'r') as csvfile:\n",
    "    csvreader = csv.reader(csvfile)\n",
    "    next(csvreader)  # Skip header row\n",
    "    for row in csvreader:\n",
    "        store_id, timezone_str = row\n",
    "        store_timezone = StoreTimezone(store_id=store_id, timezone_str=timezone_str)\n",
    "        SESSION.add(store_timezone)\n",
    "\n",
    "# Commit the changes\n",
    "SESSION.commit()\n",
    "\n",
    "# Close the session\n",
    "SESSION.close()"
   ]
  },
  {
   "cell_type": "code",
   "execution_count": null,
   "metadata": {},
   "outputs": [],
   "source": []
  }
 ],
 "metadata": {
  "kernelspec": {
   "display_name": "venv",
   "language": "python",
   "name": "python3"
  },
  "language_info": {
   "codemirror_mode": {
    "name": "ipython",
    "version": 3
   },
   "file_extension": ".py",
   "mimetype": "text/x-python",
   "name": "python",
   "nbconvert_exporter": "python",
   "pygments_lexer": "ipython3",
   "version": "3.8.0"
  },
  "orig_nbformat": 4
 },
 "nbformat": 4,
 "nbformat_minor": 2
}
